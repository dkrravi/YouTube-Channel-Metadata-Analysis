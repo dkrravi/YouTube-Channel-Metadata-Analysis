{
 "cells": [
  {
   "cell_type": "code",
   "execution_count": 83,
   "id": "43cb64a8-09ce-4a68-a5b1-3e2cd98c5043",
   "metadata": {},
   "outputs": [],
   "source": [
    "from googleapiclient.discovery import build\n",
    "import pandas as pd\n",
    "from IPython.display import JSON"
   ]
  },
  {
   "cell_type": "code",
   "execution_count": null,
   "id": "a252a90b-c686-4aa3-b85e-066f728a3f84",
   "metadata": {},
   "outputs": [],
   "source": [
    "api_key = ''"
   ]
  },
  {
   "cell_type": "code",
   "execution_count": 85,
   "id": "517d2a0b-3afd-487c-a85a-9943ae4500ce",
   "metadata": {},
   "outputs": [],
   "source": [
    "channel_ids = [\n",
    "    \"UC7cs8q-gJRlGwj4A8OmCmXg\",  # Alex The Analyst\n",
    "    \"UCh9nVJoWXmFb7sLApWGcLPQ\",  # codebasics\n",
    "    \"UC8uU_wruBMHeeRma49dtZKA\",  # Chandoo\n",
    "]"
   ]
  },
  {
   "cell_type": "code",
   "execution_count": 86,
   "id": "ecf3a9f6-7d1e-4583-8df0-104a2fc7ee53",
   "metadata": {},
   "outputs": [
    {
     "data": {
      "application/json": {
       "etag": "gRd__vIjrASKFjiNa_aajMR3n_Q",
       "items": [
        {
         "contentDetails": {
          "relatedPlaylists": {
           "likes": "",
           "uploads": "UU7cs8q-gJRlGwj4A8OmCmXg"
          }
         },
         "etag": "ZszNl-vF3snapS3FCmaQ1dpZaHQ",
         "id": "UC7cs8q-gJRlGwj4A8OmCmXg",
         "kind": "youtube#channel",
         "snippet": {
          "country": "US",
          "customUrl": "@alextheanalyst",
          "description": "My name is Alex Freberg and on this channel I will be going over everything you need to know to become a Data Analyst. If you are wanting to make a career change or learn the skills needed to become a Data Analyst, be sure to subscribe to stay up to date on all my latest content.\n\nYou can find me on LinkedIn at:\nhttps://www.linkedin.com/in/alex-freberg/\n\nAlexTheAnalyst.com\nhttps://www.alextheanalyst.com/\n\nDiscord Channel:\nhttps://discord.gg/rxZUjNvRzR\n\nTwitter:\n@Alex_TheAnalyst\n\n",
          "localized": {
           "description": "My name is Alex Freberg and on this channel I will be going over everything you need to know to become a Data Analyst. If you are wanting to make a career change or learn the skills needed to become a Data Analyst, be sure to subscribe to stay up to date on all my latest content.\n\nYou can find me on LinkedIn at:\nhttps://www.linkedin.com/in/alex-freberg/\n\nAlexTheAnalyst.com\nhttps://www.alextheanalyst.com/\n\nDiscord Channel:\nhttps://discord.gg/rxZUjNvRzR\n\nTwitter:\n@Alex_TheAnalyst\n\n",
           "title": "Alex The Analyst"
          },
          "publishedAt": "2020-01-08T05:04:24.970712Z",
          "thumbnails": {
           "default": {
            "height": 88,
            "url": "https://yt3.ggpht.com/ytc/AIdro_l9wLnClpLKJeVmP5XwHy4NF_Gu13GfyRT1WTZDaSYS-g=s88-c-k-c0x00ffffff-no-rj",
            "width": 88
           },
           "high": {
            "height": 800,
            "url": "https://yt3.ggpht.com/ytc/AIdro_l9wLnClpLKJeVmP5XwHy4NF_Gu13GfyRT1WTZDaSYS-g=s800-c-k-c0x00ffffff-no-rj",
            "width": 800
           },
           "medium": {
            "height": 240,
            "url": "https://yt3.ggpht.com/ytc/AIdro_l9wLnClpLKJeVmP5XwHy4NF_Gu13GfyRT1WTZDaSYS-g=s240-c-k-c0x00ffffff-no-rj",
            "width": 240
           }
          },
          "title": "Alex The Analyst"
         },
         "statistics": {
          "hiddenSubscriberCount": false,
          "subscriberCount": "1060000",
          "videoCount": "362",
          "viewCount": "50038841"
         }
        },
        {
         "contentDetails": {
          "relatedPlaylists": {
           "likes": "",
           "uploads": "UUh9nVJoWXmFb7sLApWGcLPQ"
          }
         },
         "etag": "IjoZYF0uJpCBFK9TYi73TCI7ceQ",
         "id": "UCh9nVJoWXmFb7sLApWGcLPQ",
         "kind": "youtube#channel",
         "snippet": {
          "country": "US",
          "customUrl": "@codebasics",
          "description": "I am Dhaval Patel, an AI professional with 14 years of experience with big tech companies such as Bloomberg and NVIDIA. I am also a co-founder of AI services company AtliQ. The co-founder of this channel Hemanand Vadivel has 6+ years of DATA INDUSTRY experience in Europe. We teach data analytics, data science, and AI on this channel. All our content is highly relevant to the industry.\n\nVisit https://codebasics.io/ for my video courses that teach technology most simplistically and practically!\n\nFor all Business and Sponsorship-related inquiries, don't hesitate to get in touch with business@codebasics.io.\n",
          "localized": {
           "description": "I am Dhaval Patel, an AI professional with 14 years of experience with big tech companies such as Bloomberg and NVIDIA. I am also a co-founder of AI services company AtliQ. The co-founder of this channel Hemanand Vadivel has 6+ years of DATA INDUSTRY experience in Europe. We teach data analytics, data science, and AI on this channel. All our content is highly relevant to the industry.\n\nVisit https://codebasics.io/ for my video courses that teach technology most simplistically and practically!\n\nFor all Business and Sponsorship-related inquiries, don't hesitate to get in touch with business@codebasics.io.\n",
           "title": "codebasics"
          },
          "publishedAt": "2015-11-07T17:29:46Z",
          "thumbnails": {
           "default": {
            "height": 88,
            "url": "https://yt3.ggpht.com/HRNCdCkyzfsHmKV3Xa0_Ehzit9eAClwtynQmaxm2x0GmetLYoU9O55-PwlxWu2BzQ313k0x0ZQ=s88-c-k-c0x00ffffff-no-rj",
            "width": 88
           },
           "high": {
            "height": 800,
            "url": "https://yt3.ggpht.com/HRNCdCkyzfsHmKV3Xa0_Ehzit9eAClwtynQmaxm2x0GmetLYoU9O55-PwlxWu2BzQ313k0x0ZQ=s800-c-k-c0x00ffffff-no-rj",
            "width": 800
           },
           "medium": {
            "height": 240,
            "url": "https://yt3.ggpht.com/HRNCdCkyzfsHmKV3Xa0_Ehzit9eAClwtynQmaxm2x0GmetLYoU9O55-PwlxWu2BzQ313k0x0ZQ=s240-c-k-c0x00ffffff-no-rj",
            "width": 240
           }
          },
          "title": "codebasics"
         },
         "statistics": {
          "hiddenSubscriberCount": false,
          "subscriberCount": "1280000",
          "videoCount": "1052",
          "viewCount": "130938442"
         }
        },
        {
         "contentDetails": {
          "relatedPlaylists": {
           "likes": "",
           "uploads": "UU8uU_wruBMHeeRma49dtZKA"
          }
         },
         "etag": "0UZ4eb_ljK3E0nHX_0mObflx-Uk",
         "id": "UC8uU_wruBMHeeRma49dtZKA",
         "kind": "youtube#channel",
         "snippet": {
          "country": "NZ",
          "customUrl": "@chandoo_",
          "description": "👋 Hello. I make you AWESOME at your work 😎\n\nI make videos on Excel, Power BI & Data Analytics so that you can be awesome at your work.\n\n✅ Excel ~ Power BI ~ SQL ~ Python ~ Interview Prep\n✅ New Video Every Week ~ Subscribe\n\n💻📗 My courses\n\nAdvanced Excel 👉 https://chandoo.org/wp/excel-school-program/\nAdvanced Power BI 👉 https://chandoo.org/wp/power-bi-course/\nEverything 👉 https://chandoo.org/mdac\n\n~\n\nKNOW 😀\n\nAbout me: https://chandoo.org/wp/about/\nWhat I'm doing now: https://chandoo.org/wp/now/\nStuff I use: https://chandoo.org/wp/about/what-we-use/\n\n\nFOLLOW 🚶‍♀️🚶‍♂️\n\n🌐 Website - https://chandoo.org/wp/\n📃 FREE Data tips newsletter - https://chandoo.org/wp/subscribe/\n📚 Courses - https://chandoo.org/wp/training-programs/\n📷 Instagram -  https://www.instagram.com/chandoo.xlsx/\n\n\n💥తెలుగు Telugu Channel - https://www.youtube.com/channel/UCuaf89M0Lt5pmXzaUssXHvw/\n",
          "localized": {
           "description": "👋 Hello. I make you AWESOME at your work 😎\n\nI make videos on Excel, Power BI & Data Analytics so that you can be awesome at your work.\n\n✅ Excel ~ Power BI ~ SQL ~ Python ~ Interview Prep\n✅ New Video Every Week ~ Subscribe\n\n💻📗 My courses\n\nAdvanced Excel 👉 https://chandoo.org/wp/excel-school-program/\nAdvanced Power BI 👉 https://chandoo.org/wp/power-bi-course/\nEverything 👉 https://chandoo.org/mdac\n\n~\n\nKNOW 😀\n\nAbout me: https://chandoo.org/wp/about/\nWhat I'm doing now: https://chandoo.org/wp/now/\nStuff I use: https://chandoo.org/wp/about/what-we-use/\n\n\nFOLLOW 🚶‍♀️🚶‍♂️\n\n🌐 Website - https://chandoo.org/wp/\n📃 FREE Data tips newsletter - https://chandoo.org/wp/subscribe/\n📚 Courses - https://chandoo.org/wp/training-programs/\n📷 Instagram -  https://www.instagram.com/chandoo.xlsx/\n\n\n💥తెలుగు Telugu Channel - https://www.youtube.com/channel/UCuaf89M0Lt5pmXzaUssXHvw/\n",
           "title": "Chandoo"
          },
          "publishedAt": "2009-05-02T06:44:42Z",
          "thumbnails": {
           "default": {
            "height": 88,
            "url": "https://yt3.ggpht.com/ytc/AIdro_n_wMqn3mAO7vDs1s74bHiFXXv24ckFsv2mnV1US8mS_w=s88-c-k-c0x00ffffff-no-rj",
            "width": 88
           },
           "high": {
            "height": 800,
            "url": "https://yt3.ggpht.com/ytc/AIdro_n_wMqn3mAO7vDs1s74bHiFXXv24ckFsv2mnV1US8mS_w=s800-c-k-c0x00ffffff-no-rj",
            "width": 800
           },
           "medium": {
            "height": 240,
            "url": "https://yt3.ggpht.com/ytc/AIdro_n_wMqn3mAO7vDs1s74bHiFXXv24ckFsv2mnV1US8mS_w=s240-c-k-c0x00ffffff-no-rj",
            "width": 240
           }
          },
          "title": "Chandoo"
         },
         "statistics": {
          "hiddenSubscriberCount": false,
          "subscriberCount": "760000",
          "videoCount": "522",
          "viewCount": "57436324"
         }
        }
       ],
       "kind": "youtube#channelListResponse",
       "pageInfo": {
        "resultsPerPage": 5,
        "totalResults": 3
       }
      },
      "text/plain": [
       "<IPython.core.display.JSON object>"
      ]
     },
     "execution_count": 86,
     "metadata": {
      "application/json": {
       "expanded": false,
       "root": "root"
      }
     },
     "output_type": "execute_result"
    }
   ],
   "source": [
    "api_service_name = \"youtube\"\n",
    "api_version = \"v3\"\n",
    "\n",
    "youtube = build(\n",
    "    api_service_name, api_version,developerKey=api_key)\n",
    "\n",
    "request = youtube.channels().list(\n",
    "        part=\"snippet,contentDetails,statistics\",\n",
    "        id=\",\".join(channel_ids)\n",
    ")\n",
    "response = request.execute()\n",
    "JSON(response)"
   ]
  },
  {
   "cell_type": "code",
   "execution_count": 87,
   "id": "04119518-4ac2-4b6b-901a-554bec25d26a",
   "metadata": {},
   "outputs": [],
   "source": [
    "def getChannelStats(youtube, channel_ids):\n",
    "    all_data = []\n",
    "\n",
    "    request = youtube.channels().list(\n",
    "        part=\"snippet,contentDetails,statistics\",\n",
    "        id=\",\".join(channel_ids)\n",
    "    )\n",
    "    response = request.execute()\n",
    "\n",
    "    for item in response['items']:\n",
    "        data = {\n",
    "            \"Channel_name\": item[\"snippet\"][\"title\"],\n",
    "            \"Subscribers\": item[\"statistics\"][\"subscriberCount\"],\n",
    "            \"Views\": item[\"statistics\"][\"viewCount\"],\n",
    "            \"PublishedAt\": item[\"snippet\"][\"publishedAt\"],\n",
    "            \"Country\": item.get(\"snippet\", {}).get(\"country\", \"N/A\"),\n",
    "            \"Total_videos\": item[\"statistics\"][\"videoCount\"],\n",
    "            \"playlist_id\": item[\"contentDetails\"][\"relatedPlaylists\"][\"uploads\"]\n",
    "        }\n",
    "\n",
    "        all_data.append(data)\n",
    "\n",
    "    return pd.DataFrame(all_data)"
   ]
  },
  {
   "cell_type": "code",
   "execution_count": 88,
   "id": "cb914189-658b-459a-a41e-5646667823c9",
   "metadata": {},
   "outputs": [],
   "source": [
    "df = getChannelStats(youtube, channel_ids)"
   ]
  },
  {
   "cell_type": "code",
   "execution_count": 89,
   "id": "c3e58a6f-2e1c-4f82-8ae5-ba9fd7f6fa7d",
   "metadata": {},
   "outputs": [
    {
     "data": {
      "text/html": [
       "<div>\n",
       "<style scoped>\n",
       "    .dataframe tbody tr th:only-of-type {\n",
       "        vertical-align: middle;\n",
       "    }\n",
       "\n",
       "    .dataframe tbody tr th {\n",
       "        vertical-align: top;\n",
       "    }\n",
       "\n",
       "    .dataframe thead th {\n",
       "        text-align: right;\n",
       "    }\n",
       "</style>\n",
       "<table border=\"1\" class=\"dataframe\">\n",
       "  <thead>\n",
       "    <tr style=\"text-align: right;\">\n",
       "      <th></th>\n",
       "      <th>Channel_name</th>\n",
       "      <th>Subscribers</th>\n",
       "      <th>Views</th>\n",
       "      <th>PublishedAt</th>\n",
       "      <th>Country</th>\n",
       "      <th>Total_videos</th>\n",
       "      <th>playlist_id</th>\n",
       "    </tr>\n",
       "  </thead>\n",
       "  <tbody>\n",
       "    <tr>\n",
       "      <th>0</th>\n",
       "      <td>codebasics</td>\n",
       "      <td>1280000</td>\n",
       "      <td>130938442</td>\n",
       "      <td>2015-11-07T17:29:46Z</td>\n",
       "      <td>US</td>\n",
       "      <td>1052</td>\n",
       "      <td>UUh9nVJoWXmFb7sLApWGcLPQ</td>\n",
       "    </tr>\n",
       "    <tr>\n",
       "      <th>1</th>\n",
       "      <td>Chandoo</td>\n",
       "      <td>760000</td>\n",
       "      <td>57436324</td>\n",
       "      <td>2009-05-02T06:44:42Z</td>\n",
       "      <td>NZ</td>\n",
       "      <td>522</td>\n",
       "      <td>UU8uU_wruBMHeeRma49dtZKA</td>\n",
       "    </tr>\n",
       "    <tr>\n",
       "      <th>2</th>\n",
       "      <td>Alex The Analyst</td>\n",
       "      <td>1060000</td>\n",
       "      <td>50038841</td>\n",
       "      <td>2020-01-08T05:04:24.970712Z</td>\n",
       "      <td>US</td>\n",
       "      <td>362</td>\n",
       "      <td>UU7cs8q-gJRlGwj4A8OmCmXg</td>\n",
       "    </tr>\n",
       "  </tbody>\n",
       "</table>\n",
       "</div>"
      ],
      "text/plain": [
       "       Channel_name Subscribers      Views                  PublishedAt  \\\n",
       "0        codebasics     1280000  130938442         2015-11-07T17:29:46Z   \n",
       "1           Chandoo      760000   57436324         2009-05-02T06:44:42Z   \n",
       "2  Alex The Analyst     1060000   50038841  2020-01-08T05:04:24.970712Z   \n",
       "\n",
       "  Country Total_videos               playlist_id  \n",
       "0      US         1052  UUh9nVJoWXmFb7sLApWGcLPQ  \n",
       "1      NZ          522  UU8uU_wruBMHeeRma49dtZKA  \n",
       "2      US          362  UU7cs8q-gJRlGwj4A8OmCmXg  "
      ]
     },
     "execution_count": 89,
     "metadata": {},
     "output_type": "execute_result"
    }
   ],
   "source": [
    "df"
   ]
  },
  {
   "cell_type": "code",
   "execution_count": 90,
   "id": "6802a16f-f8b9-4a02-9180-a855ee9a3954",
   "metadata": {},
   "outputs": [
    {
     "data": {
      "text/plain": [
       "Index(['Channel_name', 'Subscribers', 'Views', 'PublishedAt', 'Country',\n",
       "       'Total_videos', 'playlist_id'],\n",
       "      dtype='object')"
      ]
     },
     "execution_count": 90,
     "metadata": {},
     "output_type": "execute_result"
    }
   ],
   "source": [
    "df.columns"
   ]
  },
  {
   "cell_type": "code",
   "execution_count": 91,
   "id": "59206a39-0a6e-4f66-b34f-c9f7bd46dbbd",
   "metadata": {},
   "outputs": [
    {
     "data": {
      "text/plain": [
       "Channel_name    object\n",
       "Subscribers     object\n",
       "Views           object\n",
       "PublishedAt     object\n",
       "Country         object\n",
       "Total_videos    object\n",
       "playlist_id     object\n",
       "dtype: object"
      ]
     },
     "execution_count": 91,
     "metadata": {},
     "output_type": "execute_result"
    }
   ],
   "source": [
    "df.dtypes"
   ]
  },
  {
   "cell_type": "code",
   "execution_count": 92,
   "id": "12cf7b16-68c2-4584-85eb-6d8a4502e11f",
   "metadata": {},
   "outputs": [],
   "source": [
    "df['Subscribers'] = pd.to_numeric(df['Subscribers'], errors='coerce')\n",
    "df['Views'] = pd.to_numeric(df['Views'], errors='coerce')\n",
    "df['Total_videos'] = pd.to_numeric(df['Total_videos'], errors='coerce')"
   ]
  },
  {
   "cell_type": "code",
   "execution_count": 93,
   "id": "bd478297-b604-4ab1-859d-e75f2f6469f9",
   "metadata": {},
   "outputs": [],
   "source": [
    "from dateutil import parser\n",
    "\n",
    "df['PublishedAt'] = df['PublishedAt'].apply(lambda x: parser.parse(x))"
   ]
  },
  {
   "cell_type": "code",
   "execution_count": 94,
   "id": "37944514-f63c-4e51-a35b-3417b85475c4",
   "metadata": {},
   "outputs": [
    {
     "data": {
      "text/plain": [
       "Channel_name                     object\n",
       "Subscribers                       int64\n",
       "Views                             int64\n",
       "PublishedAt     datetime64[ns, tzutc()]\n",
       "Country                          object\n",
       "Total_videos                      int64\n",
       "playlist_id                      object\n",
       "dtype: object"
      ]
     },
     "execution_count": 94,
     "metadata": {},
     "output_type": "execute_result"
    }
   ],
   "source": [
    "df.dtypes"
   ]
  },
  {
   "cell_type": "code",
   "execution_count": 95,
   "id": "67783eb4-75e3-4647-95d3-196968b44206",
   "metadata": {},
   "outputs": [
    {
     "data": {
      "text/plain": [
       "0          2015-11-07 17:29:46+00:00\n",
       "1          2009-05-02 06:44:42+00:00\n",
       "2   2020-01-08 05:04:24.970712+00:00\n",
       "Name: PublishedAt, dtype: datetime64[ns, tzutc()]"
      ]
     },
     "execution_count": 95,
     "metadata": {},
     "output_type": "execute_result"
    }
   ],
   "source": [
    "df['PublishedAt']"
   ]
  },
  {
   "cell_type": "markdown",
   "id": "008e579f-191c-4052-a0eb-e9f385e62fa7",
   "metadata": {},
   "source": [
    "### Feature Enginneering"
   ]
  },
  {
   "cell_type": "code",
   "execution_count": 96,
   "id": "e48cd9d8-d99f-4c9e-8482-eb3ca3f0a1ce",
   "metadata": {},
   "outputs": [],
   "source": [
    "from datetime import datetime\n",
    "\n",
    "now = datetime.now(tz=df['PublishedAt'].dt.tz)\n",
    "df['channel_age_years'] = (now - df['PublishedAt']).dt.days // 365"
   ]
  },
  {
   "cell_type": "code",
   "execution_count": 97,
   "id": "12f386ce-2552-48d7-9f0d-2dcd5214901c",
   "metadata": {},
   "outputs": [
    {
     "data": {
      "text/html": [
       "<div>\n",
       "<style scoped>\n",
       "    .dataframe tbody tr th:only-of-type {\n",
       "        vertical-align: middle;\n",
       "    }\n",
       "\n",
       "    .dataframe tbody tr th {\n",
       "        vertical-align: top;\n",
       "    }\n",
       "\n",
       "    .dataframe thead th {\n",
       "        text-align: right;\n",
       "    }\n",
       "</style>\n",
       "<table border=\"1\" class=\"dataframe\">\n",
       "  <thead>\n",
       "    <tr style=\"text-align: right;\">\n",
       "      <th></th>\n",
       "      <th>Channel_name</th>\n",
       "      <th>Subscribers</th>\n",
       "      <th>Views</th>\n",
       "      <th>PublishedAt</th>\n",
       "      <th>Country</th>\n",
       "      <th>Total_videos</th>\n",
       "      <th>playlist_id</th>\n",
       "      <th>channel_age_years</th>\n",
       "    </tr>\n",
       "  </thead>\n",
       "  <tbody>\n",
       "    <tr>\n",
       "      <th>0</th>\n",
       "      <td>codebasics</td>\n",
       "      <td>1280000</td>\n",
       "      <td>130938442</td>\n",
       "      <td>2015-11-07 17:29:46+00:00</td>\n",
       "      <td>US</td>\n",
       "      <td>1052</td>\n",
       "      <td>UUh9nVJoWXmFb7sLApWGcLPQ</td>\n",
       "      <td>9</td>\n",
       "    </tr>\n",
       "    <tr>\n",
       "      <th>1</th>\n",
       "      <td>Chandoo</td>\n",
       "      <td>760000</td>\n",
       "      <td>57436324</td>\n",
       "      <td>2009-05-02 06:44:42+00:00</td>\n",
       "      <td>NZ</td>\n",
       "      <td>522</td>\n",
       "      <td>UU8uU_wruBMHeeRma49dtZKA</td>\n",
       "      <td>16</td>\n",
       "    </tr>\n",
       "    <tr>\n",
       "      <th>2</th>\n",
       "      <td>Alex The Analyst</td>\n",
       "      <td>1060000</td>\n",
       "      <td>50038841</td>\n",
       "      <td>2020-01-08 05:04:24.970712+00:00</td>\n",
       "      <td>US</td>\n",
       "      <td>362</td>\n",
       "      <td>UU7cs8q-gJRlGwj4A8OmCmXg</td>\n",
       "      <td>5</td>\n",
       "    </tr>\n",
       "  </tbody>\n",
       "</table>\n",
       "</div>"
      ],
      "text/plain": [
       "       Channel_name  Subscribers      Views                      PublishedAt  \\\n",
       "0        codebasics      1280000  130938442        2015-11-07 17:29:46+00:00   \n",
       "1           Chandoo       760000   57436324        2009-05-02 06:44:42+00:00   \n",
       "2  Alex The Analyst      1060000   50038841 2020-01-08 05:04:24.970712+00:00   \n",
       "\n",
       "  Country  Total_videos               playlist_id  channel_age_years  \n",
       "0      US          1052  UUh9nVJoWXmFb7sLApWGcLPQ                  9  \n",
       "1      NZ           522  UU8uU_wruBMHeeRma49dtZKA                 16  \n",
       "2      US           362  UU7cs8q-gJRlGwj4A8OmCmXg                  5  "
      ]
     },
     "execution_count": 97,
     "metadata": {},
     "output_type": "execute_result"
    }
   ],
   "source": [
    "df"
   ]
  },
  {
   "cell_type": "code",
   "execution_count": 113,
   "id": "dd26ab07-712c-40b1-b080-b39abe2ede17",
   "metadata": {},
   "outputs": [
    {
     "data": {
      "image/png": "[encoded data removed]",
      "text/plain": [
       "<Figure size 640x480 with 1 Axes>"
      ]
     },
     "metadata": {},
     "output_type": "display_data"
    }
   ],
   "source": [
    "import matplotlib.pyplot as plt\n",
    "\n",
    "df['Subscribers_million'] = df['Subscribers'] / 1_000_000\n",
    "channels = df['Channel_name']\n",
    "subs = df['Subscribers_million']\n",
    "colors = ['#1f77b4', '#ff7f0e', '#2ca02c']\n",
    "\n",
    "plt.bar(channels, subs, color=colors)\n",
    "plt.title('Subscribers by Channel')\n",
    "plt.ylabel('Subscribers (in millions)')\n",
    "plt.xlabel('Channel Name')\n",
    "\n",
    "for i, val in enumerate(subs):\n",
    "    plt.text(i, val, f'{val:.1f}M', ha='center', va='bottom')\n",
    "\n",
    "plt.grid(False)\n",
    "plt.show()"
   ]
  },
  {
   "cell_type": "code",
   "execution_count": 112,
   "id": "3fb35a63-a825-4452-8cd8-70839ea2f510",
   "metadata": {},
   "outputs": [
    {
     "data": {
      "image/png": "[encoded data removed]",
      "text/plain": [
       "<Figure size 800x400 with 1 Axes>"
      ]
     },
     "metadata": {},
     "output_type": "display_data"
    }
   ],
   "source": [
    "channels = df['Channel_name']\n",
    "ages = df['channel_age_years']\n",
    "colors = ['#FF6F61', '#6B5B95', '#88B04B']\n",
    "\n",
    "plt.figure(figsize=(8, 4))\n",
    "bars = plt.barh(channels, ages, color=colors)\n",
    "\n",
    "plt.title('Channel Age (Years)')\n",
    "plt.xlabel('Age (Years)')\n",
    "plt.ylabel('Channel')\n",
    "\n",
    "for bar in bars:\n",
    "    width = bar.get_width()\n",
    "    plt.text(width, bar.get_y() + bar.get_height()/2, f'{width}', \n",
    "             va='center', ha='left')\n",
    "\n",
    "plt.grid(False)\n",
    "plt.tight_layout()\n",
    "plt.show()\n"
   ]
  },
  {
   "cell_type": "code",
   "execution_count": 114,
   "id": "054758ca-2664-4be0-a74a-26628768ecdf",
   "metadata": {},
   "outputs": [],
   "source": [
    "df.to_csv('channels_data.csv', index=False)"
   ]
  }
 ],
 "metadata": {
  "kernelspec": {
   "display_name": "Python 3 (ipykernel)",
   "language": "python",
   "name": "python3"
  },
  "language_info": {
   "codemirror_mode": {
    "name": "ipython",
    "version": 3
   },
   "file_extension": ".py",
   "mimetype": "text/x-python",
   "name": "python",
   "nbconvert_exporter": "python",
   "pygments_lexer": "ipython3",
   "version": "3.11.4"
  }
 },
 "nbformat": 4,
 "nbformat_minor": 5
}
